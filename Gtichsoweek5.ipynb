{
 "cells": [
  {
   "cell_type": "markdown",
   "metadata": {},
   "source": [
    "## Bài 6"
   ]
  },
  {
   "cell_type": "code",
   "execution_count": 1,
   "metadata": {},
   "outputs": [
    {
     "name": "stdout",
     "output_type": "stream",
     "text": [
      "f'(2.36) =  0.42400000000001326\n",
      "f''(2.36) =  -0.20000000000020002\n"
     ]
    }
   ],
   "source": [
    "x = [2.36, 2.37, 2.38, 2.39]\n",
    "f =  [0.85866, 0.86289, 0.86710, 0.87129]\n",
    "h = 0.01\n",
    "fp = (-1.5*f[0] + 2*f[1] - 0.5*f[2]) / h\n",
    "fpp = (2*f[0] - 5*f[1] + 4*f[2] - f[3])/ h/h\n",
    "\n",
    "print(\"f'(2.36) = \",fp)\n",
    "print(\"f''(2.36) = \",fpp)\n"
   ]
  },
  {
   "cell_type": "markdown",
   "metadata": {},
   "source": [
    "## Bài 8"
   ]
  },
  {
   "cell_type": "code",
   "execution_count": 7,
   "metadata": {},
   "outputs": [
    {
     "name": "stdout",
     "output_type": "stream",
     "text": [
      "f''(1) =  0.33953124999999695\n"
     ]
    }
   ],
   "source": [
    "x = [0.84, 0.92, 1.00, 1.08, 1.16]\n",
    "f =  [0.431711, 0.398519, 0.367879, 0.339596, 0.313486]\n",
    "h = 0.08\n",
    "\n",
    "fpp = (1*f[2] - 2*f[3] + 1*f[4])/ h/h\n",
    "\n",
    "print(\"f''(1) = \",fpp)"
   ]
  },
  {
   "cell_type": "markdown",
   "metadata": {},
   "source": [
    "## Bài 9"
   ]
  },
  {
   "cell_type": "code",
   "execution_count": 2,
   "metadata": {},
   "outputs": [
    {
     "name": "stdout",
     "output_type": "stream",
     "text": [
      "O(h)...f''(0.2) =  0.54006\n"
     ]
    }
   ],
   "source": [
    "x = [0, 0.1, 0.2, 0.3, 0.4]\n",
    "f =  [0, 0.078348, 0.138910, 0.192916, 0.244981 ]\n",
    "h = 0.1\n",
    "fp= (-f[2]+f[3])/h\n",
    "fpp = (1*f[2] - 2*f[3] + 1*f[4])/ h/h\n",
    "\n",
    "print(\"O(h)...f''(0.2) = \",fp)"
   ]
  },
  {
   "cell_type": "code",
   "execution_count": 3,
   "metadata": {},
   "outputs": [
    {
     "name": "stdout",
     "output_type": "stream",
     "text": [
      "[1.3125 2.375  0.3125]\n",
      "A:\n",
      "[[ 1  2  3]\n",
      " [ 2  7 -4]\n",
      " [ 9 -4 15]]\n",
      "P:\n",
      "[[0. 0. 1.]\n",
      " [0. 1. 0.]\n",
      " [1. 0. 0.]]\n",
      "L:\n",
      "[[1.         0.         0.        ]\n",
      " [0.22222222 1.         0.        ]\n",
      " [0.11111111 0.30985915 1.        ]]\n",
      "U:\n",
      "[[ 9.         -4.         15.        ]\n",
      " [ 0.          7.88888889 -7.33333333]\n",
      " [ 0.          0.          3.6056338 ]]\n",
      "PLU:\n",
      " [[ 1.  2.  3.]\n",
      " [ 2.  7. -4.]\n",
      " [ 9. -4. 15.]]\n",
      "X:\n",
      "[1.3125 2.375  0.3125]\n"
     ]
    }
   ],
   "source": [
    "import scipy\n",
    "import numpy as np\n",
    "from scipy.linalg import lu\n",
    "A = np.array([[1, 2, 3], [2, 7, -4], [9, -4, 15]])\n",
    "B = np.array([7, 18, 7])\n",
    "X = np.linalg.inv(A).dot(B)\n",
    "\n",
    "print(X)\n",
    "\n",
    "A = np.array([[1, 2, 3], [2, 7, -4], [9, -4, 15]])\n",
    "B = np.array([7, 18, 7])\n",
    "P,L, U = scipy.linalg.lu(A)\n",
    "print(\"A:\")\n",
    "print(A)\n",
    "\n",
    "print(\"P:\")\n",
    "print(P)\n",
    "\n",
    "print(\"L:\")\n",
    "print(L)\n",
    "\n",
    "print(\"U:\")\n",
    "print(U)\n",
    "PLU=np.dot(P,np.dot(L, U))\n",
    "print('PLU:\\n',PLU)\n",
    "Y=np.dot(np.linalg.inv(P),B)\n",
    "Z=np.dot(np.linalg.inv(L),Y)\n",
    "X=np.dot(np.linalg.inv(U),Z)\n",
    "print(\"X:\")\n",
    "print(X)"
   ]
  }
 ],
 "metadata": {
  "interpreter": {
   "hash": "fcea7bec55ff6d7f3b1107f41f074eaa5711bec3d5478eb754b653bcca62ae21"
  },
  "kernelspec": {
   "display_name": "Python 3.9.9 64-bit (windows store)",
   "language": "python",
   "name": "python3"
  },
  "language_info": {
   "codemirror_mode": {
    "name": "ipython",
    "version": 3
   },
   "file_extension": ".py",
   "mimetype": "text/x-python",
   "name": "python",
   "nbconvert_exporter": "python",
   "pygments_lexer": "ipython3",
   "version": "3.9.9"
  },
  "orig_nbformat": 4
 },
 "nbformat": 4,
 "nbformat_minor": 2
}
